{
  "nbformat": 4,
  "nbformat_minor": 0,
  "metadata": {
    "colab": {
      "provenance": [],
      "authorship_tag": "ABX9TyO3oITVFgPv+dOhY4+9oMKH",
      "include_colab_link": true
    },
    "kernelspec": {
      "name": "python3",
      "display_name": "Python 3"
    },
    "language_info": {
      "name": "python"
    }
  },
  "cells": [
    {
      "cell_type": "markdown",
      "metadata": {
        "id": "view-in-github",
        "colab_type": "text"
      },
      "source": [
        "<a href=\"https://colab.research.google.com/github/Rhea3010/Big_data/blob/main/Copy_of_Assignment2.ipynb\" target=\"_parent\"><img src=\"https://colab.research.google.com/assets/colab-badge.svg\" alt=\"Open In Colab\"/></a>"
      ]
    },
    {
      "cell_type": "code",
      "execution_count": null,
      "metadata": {
        "colab": {
          "base_uri": "https://localhost:8080/"
        },
        "id": "c0f5a5c7y2I9",
        "outputId": "a65cbf2a-6ee3-430a-a0f2-62a5aaa7a618"
      },
      "outputs": [
        {
          "output_type": "stream",
          "name": "stdout",
          "text": [
            "hello\n"
          ]
        }
      ],
      "source": [
        "#Q1\n",
        "import numpy as np\n",
        "array1=np.array([1, 2, 3, 6, 4, 5])\n",
        "array2=np.flip(arr1)\n",
        "print(array2)"
      ]
    },
    {
      "cell_type": "code",
      "source": [
        "#Q2\n"
      ],
      "metadata": {
        "id": "Ft5qC1AtzDQf"
      },
      "execution_count": null,
      "outputs": []
    }
  ]
}