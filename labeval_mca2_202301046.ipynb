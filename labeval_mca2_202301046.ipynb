{
  "nbformat": 4,
  "nbformat_minor": 0,
  "metadata": {
    "colab": {
      "provenance": [],
      "authorship_tag": "ABX9TyPXUC+mE3LQoWhAueYsnjRY",
      "include_colab_link": true
    },
    "kernelspec": {
      "name": "python3",
      "display_name": "Python 3"
    },
    "language_info": {
      "name": "python"
    }
  },
  "cells": [
    {
      "cell_type": "markdown",
      "metadata": {
        "id": "view-in-github",
        "colab_type": "text"
      },
      "source": [
        "<a href=\"https://colab.research.google.com/github/Rhea3010/Big_data/blob/main/labeval_mca2_202301046.ipynb\" target=\"_parent\"><img src=\"https://colab.research.google.com/assets/colab-badge.svg\" alt=\"Open In Colab\"/></a>"
      ]
    },
    {
      "cell_type": "code",
      "execution_count": 1,
      "metadata": {
        "id": "8IH_uaMOWC4c"
      },
      "outputs": [],
      "source": [
        "import numpy as np\n",
        "arr1=np.array([10,52,62,16,16,54,453])"
      ]
    },
    {
      "cell_type": "code",
      "source": [
        "#sorted array\n",
        "arr2=np.sort(arr1)\n",
        "print(arr2)"
      ],
      "metadata": {
        "colab": {
          "base_uri": "https://localhost:8080/"
        },
        "id": "7GhdT6jtXdG_",
        "outputId": "1984ff0c-8cca-4cf5-857f-a3869f906c56"
      },
      "execution_count": 13,
      "outputs": [
        {
          "output_type": "stream",
          "name": "stdout",
          "text": [
            "[ 10  16  16  52  54  62 453]\n"
          ]
        }
      ]
    },
    {
      "cell_type": "code",
      "source": [
        "#indices of sorted array\n",
        "np.argsort(arr1)"
      ],
      "metadata": {
        "colab": {
          "base_uri": "https://localhost:8080/"
        },
        "id": "J7wRhvI1Xkkf",
        "outputId": "a631091c-2665-4d29-aa0d-6749f3a45990"
      },
      "execution_count": 10,
      "outputs": [
        {
          "output_type": "execute_result",
          "data": {
            "text/plain": [
              "array([0, 3, 4, 1, 5, 2, 6])"
            ]
          },
          "metadata": {},
          "execution_count": 10
        }
      ]
    },
    {
      "cell_type": "code",
      "source": [
        "#4 smallest elements\n",
        "print(arr2[0:4])"
      ],
      "metadata": {
        "colab": {
          "base_uri": "https://localhost:8080/"
        },
        "id": "3_HgBp-EXw9r",
        "outputId": "b6f8586c-bfac-4f8b-dca3-7b42ebeb0cbc"
      },
      "execution_count": 12,
      "outputs": [
        {
          "output_type": "stream",
          "name": "stdout",
          "text": [
            "[10 16 16 52]\n"
          ]
        }
      ]
    },
    {
      "cell_type": "code",
      "source": [
        "#5 largest elements\n",
        "print(arr2[2:])"
      ],
      "metadata": {
        "colab": {
          "base_uri": "https://localhost:8080/"
        },
        "id": "_8G2ecLuXyz9",
        "outputId": "63813340-1cd5-4ac8-a928-5eac7a8d41e2"
      },
      "execution_count": 14,
      "outputs": [
        {
          "output_type": "stream",
          "name": "stdout",
          "text": [
            "[ 16  52  54  62 453]\n"
          ]
        }
      ]
    },
    {
      "cell_type": "code",
      "source": [],
      "metadata": {
        "id": "LolmoT_zX0nO"
      },
      "execution_count": null,
      "outputs": []
    }
  ]
}